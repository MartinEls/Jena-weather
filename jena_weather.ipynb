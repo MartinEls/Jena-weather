{
 "cells": [
  {
   "cell_type": "code",
   "execution_count": 1,
   "metadata": {},
   "outputs": [],
   "source": [
    "import pandas as pd\n",
    "from io import BytesIO\n",
    "from zipfile import ZipFile\n",
    "from urllib.request import urlopen"
   ]
  },
  {
   "cell_type": "code",
   "execution_count": null,
   "metadata": {},
   "outputs": [],
   "source": [
    "x = range(10)\n",
    "''.join([f'{symbol}' for _ in x for symbol in '01'])"
   ]
  },
  {
   "cell_type": "code",
   "execution_count": null,
   "metadata": {},
   "outputs": [],
   "source": [
    "years = range(2004, 2024)\n",
    "urls = [\"https://www.bgc-jena.mpg.de/wetter/mpi_roof_2003b.zip\"]\n",
    "urls += ([f'https://www.bgc-jena.mpg.de/wetter/mpi_roof_{year}{half}.zip' for year in years for half in 'ab'])\n",
    "urls.append('https://www.bgc-jena.mpg.de/wetter/mpi_roof.zip')"
   ]
  },
  {
   "cell_type": "code",
   "execution_count": 5,
   "metadata": {},
   "outputs": [
    {
     "data": {
      "text/plain": [
       "['https://www.bgc-jena.mpg.de/wetter/mpi_roof_2003b.zip',\n",
       " 'https://www.bgc-jena.mpg.de/wetter/mpi_roof_2004a.zip',\n",
       " 'https://www.bgc-jena.mpg.de/wetter/mpi_roof_2004b.zip',\n",
       " 'https://www.bgc-jena.mpg.de/wetter/mpi_roof_2005a.zip',\n",
       " 'https://www.bgc-jena.mpg.de/wetter/mpi_roof_2005b.zip',\n",
       " 'https://www.bgc-jena.mpg.de/wetter/mpi_roof_2006a.zip',\n",
       " 'https://www.bgc-jena.mpg.de/wetter/mpi_roof_2006b.zip',\n",
       " 'https://www.bgc-jena.mpg.de/wetter/mpi_roof_2007a.zip',\n",
       " 'https://www.bgc-jena.mpg.de/wetter/mpi_roof_2007b.zip',\n",
       " 'https://www.bgc-jena.mpg.de/wetter/mpi_roof_2008a.zip',\n",
       " 'https://www.bgc-jena.mpg.de/wetter/mpi_roof_2008b.zip',\n",
       " 'https://www.bgc-jena.mpg.de/wetter/mpi_roof_2009a.zip',\n",
       " 'https://www.bgc-jena.mpg.de/wetter/mpi_roof_2009b.zip',\n",
       " 'https://www.bgc-jena.mpg.de/wetter/mpi_roof_2010a.zip',\n",
       " 'https://www.bgc-jena.mpg.de/wetter/mpi_roof_2010b.zip',\n",
       " 'https://www.bgc-jena.mpg.de/wetter/mpi_roof_2011a.zip',\n",
       " 'https://www.bgc-jena.mpg.de/wetter/mpi_roof_2011b.zip',\n",
       " 'https://www.bgc-jena.mpg.de/wetter/mpi_roof_2012a.zip',\n",
       " 'https://www.bgc-jena.mpg.de/wetter/mpi_roof_2012b.zip',\n",
       " 'https://www.bgc-jena.mpg.de/wetter/mpi_roof_2013a.zip',\n",
       " 'https://www.bgc-jena.mpg.de/wetter/mpi_roof_2013b.zip',\n",
       " 'https://www.bgc-jena.mpg.de/wetter/mpi_roof_2014a.zip',\n",
       " 'https://www.bgc-jena.mpg.de/wetter/mpi_roof_2014b.zip',\n",
       " 'https://www.bgc-jena.mpg.de/wetter/mpi_roof_2015a.zip',\n",
       " 'https://www.bgc-jena.mpg.de/wetter/mpi_roof_2015b.zip',\n",
       " 'https://www.bgc-jena.mpg.de/wetter/mpi_roof_2016a.zip',\n",
       " 'https://www.bgc-jena.mpg.de/wetter/mpi_roof_2016b.zip',\n",
       " 'https://www.bgc-jena.mpg.de/wetter/mpi_roof_2017a.zip',\n",
       " 'https://www.bgc-jena.mpg.de/wetter/mpi_roof_2017b.zip',\n",
       " 'https://www.bgc-jena.mpg.de/wetter/mpi_roof_2018a.zip',\n",
       " 'https://www.bgc-jena.mpg.de/wetter/mpi_roof_2018b.zip',\n",
       " 'https://www.bgc-jena.mpg.de/wetter/mpi_roof_2019a.zip',\n",
       " 'https://www.bgc-jena.mpg.de/wetter/mpi_roof_2019b.zip',\n",
       " 'https://www.bgc-jena.mpg.de/wetter/mpi_roof_2020a.zip',\n",
       " 'https://www.bgc-jena.mpg.de/wetter/mpi_roof_2020b.zip',\n",
       " 'https://www.bgc-jena.mpg.de/wetter/mpi_roof_2021a.zip',\n",
       " 'https://www.bgc-jena.mpg.de/wetter/mpi_roof_2021b.zip',\n",
       " 'https://www.bgc-jena.mpg.de/wetter/mpi_roof_2022a.zip',\n",
       " 'https://www.bgc-jena.mpg.de/wetter/mpi_roof_2022b.zip',\n",
       " 'https://www.bgc-jena.mpg.de/wetter/mpi_roof_2023a.zip',\n",
       " 'https://www.bgc-jena.mpg.de/wetter/mpi_roof_2023b.zip',\n",
       " 'https://www.bgc-jena.mpg.de/wetter/mpi_roof.zip']"
      ]
     },
     "execution_count": 5,
     "metadata": {},
     "output_type": "execute_result"
    }
   ],
   "source": [
    "urls"
   ]
  },
  {
   "cell_type": "code",
   "execution_count": 7,
   "metadata": {},
   "outputs": [],
   "source": [
    "weather = pd.DataFrame()\n",
    "\n",
    "for url in urls:\n",
    "    resp = urlopen(url)\n",
    "\n",
    "    with ZipFile(BytesIO(resp.read())) as zfile:\n",
    "        filename = zfile.namelist()[0]\n",
    "        df = pd.read_csv(zfile.open(filename), sep=',', encoding='cp1252')\n",
    "\n",
    "    weather = pd.concat([weather, df], ignore_index=True)"
   ]
  },
  {
   "cell_type": "code",
   "execution_count": 11,
   "metadata": {},
   "outputs": [],
   "source": [
    "weather = tweak_weather(weather)"
   ]
  },
  {
   "cell_type": "code",
   "execution_count": 12,
   "metadata": {},
   "outputs": [],
   "source": [
    "weather.to_csv('weather.csv', index=False)"
   ]
  },
  {
   "cell_type": "code",
   "execution_count": null,
   "metadata": {},
   "outputs": [],
   "source": [
    "weather.to_parquet('weather.pqt')"
   ]
  },
  {
   "cell_type": "code",
   "execution_count": 6,
   "metadata": {},
   "outputs": [],
   "source": [
    "def tweak_weather(weather):\n",
    "    return (weather\n",
    "        .rename(columns={'Date Time': 'date_time', \n",
    "                        'max. wv (m/s)': 'wv_max',\n",
    "                        'max. PAR (µmol/m²/s)': 'PARmax'})\n",
    "        .rename(columns=lambda c: c.split(' ')[0])\n",
    "        .assign(date_time=lambda df: pd.to_datetime(df.date_time, format='%d.%m.%Y %H:%M:%S', utc='utc+1'))\n",
    "        #.set_index('date_time')\n",
    "    )"
   ]
  }
 ],
 "metadata": {
  "kernelspec": {
   "display_name": ".venv",
   "language": "python",
   "name": "python3"
  },
  "language_info": {
   "codemirror_mode": {
    "name": "ipython",
    "version": 3
   },
   "file_extension": ".py",
   "mimetype": "text/x-python",
   "name": "python",
   "nbconvert_exporter": "python",
   "pygments_lexer": "ipython3",
   "version": "3.12.5"
  },
  "orig_nbformat": 4
 },
 "nbformat": 4,
 "nbformat_minor": 2
}
